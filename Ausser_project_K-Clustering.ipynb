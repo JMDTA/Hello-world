{
 "cells": [
  {
   "cell_type": "code",
   "execution_count": 12,
   "metadata": {},
   "outputs": [],
   "source": [
    "import pandas as pd\n",
    "import numpy as np\n",
    "from matplotlib import pyplot as plt\n",
    "\n",
    "%matplotlib inline\n",
    "from sklearn.cluster import KMeans\n",
    "from sklearn.preprocessing import MinMaxScaler "
   ]
  },
  {
   "cell_type": "code",
   "execution_count": 13,
   "metadata": {},
   "outputs": [],
   "source": [
    "df = pd.read_csv(\"C:\\\\Users\\\\shiva\\\\Kunde_LAN_LON.csv\", encoding = 'unicode_escape')"
   ]
  },
  {
   "cell_type": "code",
   "execution_count": 14,
   "metadata": {},
   "outputs": [
    {
     "data": {
      "text/html": [
       "<div>\n",
       "<style scoped>\n",
       "    .dataframe tbody tr th:only-of-type {\n",
       "        vertical-align: middle;\n",
       "    }\n",
       "\n",
       "    .dataframe tbody tr th {\n",
       "        vertical-align: top;\n",
       "    }\n",
       "\n",
       "    .dataframe thead th {\n",
       "        text-align: right;\n",
       "    }\n",
       "</style>\n",
       "<table border=\"1\" class=\"dataframe\">\n",
       "  <thead>\n",
       "    <tr style=\"text-align: right;\">\n",
       "      <th></th>\n",
       "      <th>Kunde Lat</th>\n",
       "      <th>Kunde Lon</th>\n",
       "    </tr>\n",
       "  </thead>\n",
       "  <tbody>\n",
       "    <tr>\n",
       "      <th>0</th>\n",
       "      <td>50.616018</td>\n",
       "      <td>6.950815</td>\n",
       "    </tr>\n",
       "    <tr>\n",
       "      <th>1</th>\n",
       "      <td>50.616018</td>\n",
       "      <td>6.950815</td>\n",
       "    </tr>\n",
       "    <tr>\n",
       "      <th>2</th>\n",
       "      <td>50.616018</td>\n",
       "      <td>6.950815</td>\n",
       "    </tr>\n",
       "    <tr>\n",
       "      <th>3</th>\n",
       "      <td>50.616018</td>\n",
       "      <td>6.950815</td>\n",
       "    </tr>\n",
       "    <tr>\n",
       "      <th>4</th>\n",
       "      <td>50.616018</td>\n",
       "      <td>6.950815</td>\n",
       "    </tr>\n",
       "  </tbody>\n",
       "</table>\n",
       "</div>"
      ],
      "text/plain": [
       "   Kunde Lat  Kunde Lon\n",
       "0  50.616018   6.950815\n",
       "1  50.616018   6.950815\n",
       "2  50.616018   6.950815\n",
       "3  50.616018   6.950815\n",
       "4  50.616018   6.950815"
      ]
     },
     "execution_count": 14,
     "metadata": {},
     "output_type": "execute_result"
    }
   ],
   "source": [
    "df.head()\n"
   ]
  },
  {
   "cell_type": "code",
   "execution_count": 6,
   "metadata": {},
   "outputs": [],
   "source": [
    "#df_1 =pd.DataFrame(columns= df.LON)"
   ]
  },
  {
   "cell_type": "code",
   "execution_count": 7,
   "metadata": {},
   "outputs": [],
   "source": [
    "#new = df[[\"LAT\",\"LON\"]]"
   ]
  },
  {
   "cell_type": "code",
   "execution_count": 5,
   "metadata": {},
   "outputs": [
    {
     "data": {
      "text/plain": [
       "<matplotlib.collections.PathCollection at 0x1f46954dcc0>"
      ]
     },
     "execution_count": 5,
     "metadata": {},
     "output_type": "execute_result"
    },
    {
     "data": {
      "image/png": "[encoded data removed]",
      "text/plain": [
       "<Figure size 432x288 with 1 Axes>"
      ]
     },
     "metadata": {
      "needs_background": "light"
     },
     "output_type": "display_data"
    }
   ],
   "source": [
    "plt.scatter (df['Kunde Lat'], df[\"Kunde Lon\"])\n"
   ]
  },
  {
   "cell_type": "code",
   "execution_count": 5,
   "metadata": {},
   "outputs": [],
   "source": [
    "# MIN MAX setaler\n",
    "MM = MinMaxScaler()"
   ]
  },
  {
   "cell_type": "code",
   "execution_count": 10,
   "metadata": {},
   "outputs": [],
   "source": [
    "#MM.fit (new[[\"LAT\"]])\n",
    "#new[\"LAT\"]= MM.transform (new[[\"LAT\"]])"
   ]
  },
  {
   "cell_type": "code",
   "execution_count": 11,
   "metadata": {},
   "outputs": [],
   "source": [
    "#MM.fit (new[[\"LON\"]])\n",
    "#new[\"LON\"]= MM.transform (new[[\"LON\"]])"
   ]
  },
  {
   "cell_type": "code",
   "execution_count": 15,
   "metadata": {},
   "outputs": [],
   "source": [
    "#clustering the data for regional warehouse \n",
    "KM = KMeans(n_clusters=1)\n",
    "\n",
    "df[\"cluster\"] = KM.fit_predict(df[[\"Kunde Lat\", \"Kunde Lon\"]])\n"
   ]
  },
  {
   "cell_type": "code",
   "execution_count": 16,
   "metadata": {},
   "outputs": [
    {
     "data": {
      "text/plain": [
       "array([[50.78595596,  9.13045976]])"
      ]
     },
     "execution_count": 16,
     "metadata": {},
     "output_type": "execute_result"
    }
   ],
   "source": [
    "KM.cluster_centers_"
   ]
  },
  {
   "cell_type": "code",
   "execution_count": 7,
   "metadata": {},
   "outputs": [
    {
     "data": {
      "text/plain": [
       "<Figure size 1440x2160 with 0 Axes>"
      ]
     },
     "execution_count": 7,
     "metadata": {},
     "output_type": "execute_result"
    },
    {
     "data": {
      "image/png": "[encoded data removed]",
      "text/plain": [
       "<Figure size 432x288 with 1 Axes>"
      ]
     },
     "metadata": {
      "needs_background": "light"
     },
     "output_type": "display_data"
    },
    {
     "data": {
      "text/plain": [
       "<Figure size 1440x2160 with 0 Axes>"
      ]
     },
     "metadata": {},
     "output_type": "display_data"
    }
   ],
   "source": [
    "df1 = df [df.cluster == 0]\n",
    "df2 = df [df.cluster == 1]\n",
    "df3 = df[df.cluster == 2]\n",
    "df4 = df [df.cluster == 3]\n",
    "\n",
    "plt.scatter (df1[\"Kunde_Lat\"],df1[\"Kunde_Lon\"], color = \"green\")\n",
    "plt.scatter (df2[\"Kunde_Lat\"],df2[\"Kunde_Lon\"], color =\"red\")\n",
    "plt.scatter (df3[\"Kunde_Lat\"],df3[\"Kunde_Lon\"], color =\"blue\")\n",
    "plt.scatter (df4[\"Kunde_Lat\"],df4[\"Kunde_Lon\"], color =\"black\")\n",
    "\n",
    "plt.xlabel (\"LAT\")\n",
    "plt.ylabel (\"LON\")\n",
    "plt.figure(figsize=(20,30))"
   ]
  },
  {
   "cell_type": "code",
   "execution_count": 8,
   "metadata": {},
   "outputs": [
    {
     "data": {
      "text/plain": [
       "array([[ 9.57872473, 48.97368171],\n",
       "       [12.75685337, 51.56296475],\n",
       "       [ 9.48523469, 52.81553914],\n",
       "       [ 7.26043875, 50.82102234]])"
      ]
     },
     "execution_count": 8,
     "metadata": {},
     "output_type": "execute_result"
    }
   ],
   "source": [
    "KM.cluster_centers_"
   ]
  },
  {
   "cell_type": "code",
   "execution_count": 11,
   "metadata": {},
   "outputs": [],
   "source": [
    "df.to_csv('project_central_warehouse.csv')"
   ]
  },
  {
   "cell_type": "code",
   "execution_count": 26,
   "metadata": {},
   "outputs": [
    {
     "name": "stdout",
     "output_type": "stream",
     "text": [
      "[Distance(5022.068739326144), Distance(5033.747165343665), Distance(5253.047771822451), Distance(5052.542645052773)]\n"
     ]
    }
   ],
   "source": [
    "\n",
    "import pandas as pd\n",
    "import numpy as np\n",
    "from matplotlib import pyplot as plt\n",
    "df1 = pd.read_csv(\"C:\\\\Users\\\\shiva\\\\coordinates.csv\", encoding = 'unicode_escape')\n",
    "from geopy import distance\n",
    "#from geopy.distance import great_circle\n",
    "distance_1 = []\n",
    "#berlin = 52.4665109236445000, 13.5839929098869000\n",
    "\n",
    "\n",
    "for m in range (0,4):\n",
    "        distance_1.append(distance.distance( ( 52.4665109236445000, 13.5839929098869000), df1.iloc[m][3]))\n",
    "\n",
    "print(distance_1)\n",
    "df1[\"distance_berlin\"] = pd.Series(distance_1)\n",
    "  \n"
   ]
  },
  {
   "cell_type": "markdown",
   "metadata": {},
   "source": [
    "from geopy import distance\n",
    "df_d [\"Distance\"]= \"\"\n",
    "i=0\n",
    "for i in range (len(df_d)):\n",
    "     Distance.append (distance.distance (df_d.iloc[i][15], df.iloc[i+1][15]))\n",
    "df_d [\"Distance\"]"
   ]
  },
  {
   "cell_type": "code",
   "execution_count": 16,
   "metadata": {},
   "outputs": [],
   "source": [
    "df1.to_csv('coordinates.csv')"
   ]
  },
  {
   "cell_type": "code",
   "execution_count": null,
   "metadata": {},
   "outputs": [],
   "source": []
  },
  {
   "cell_type": "code",
   "execution_count": null,
   "metadata": {},
   "outputs": [],
   "source": []
  },
  {
   "cell_type": "code",
   "execution_count": null,
   "metadata": {},
   "outputs": [],
   "source": []
  }
 ],
 "metadata": {
  "kernelspec": {
   "display_name": "Python 3",
   "language": "python",
   "name": "python3"
  },
  "language_info": {
   "codemirror_mode": {
    "name": "ipython",
    "version": 3
   },
   "file_extension": ".py",
   "mimetype": "text/x-python",
   "name": "python",
   "nbconvert_exporter": "python",
   "pygments_lexer": "ipython3",
   "version": "3.6.8"
  }
 },
 "nbformat": 4,
 "nbformat_minor": 2
}
