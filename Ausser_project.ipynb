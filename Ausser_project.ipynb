{
 "cells": [
  {
   "cell_type": "code",
   "execution_count": 2,
   "metadata": {},
   "outputs": [],
   "source": [
    "import pandas as pd\n",
    "import numpy as np\n",
    "from matplotlib import pyplot as plt\n",
    "\n",
    "%matplotlib inline"
   ]
  },
  {
   "cell_type": "code",
   "execution_count": 4,
   "metadata": {},
   "outputs": [],
   "source": [
    "df = pd.read_csv(\"C:\\\\Users\\\\shiva\\\\Main_Central_warehouse.csv\", encoding = 'unicode_escape')\n",
    "\n"
   ]
  },
  {
   "cell_type": "markdown",
   "metadata": {},
   "source": [
    "s=0\n",
    "n=0\n",
    "j=0\n",
    "k=[0]\n",
    "while n<=(len(df)):\n",
    "    s=s+df.iloc[n][3]\n",
    "    if s<=920:\n",
    "        k.append(j)\n",
    "        n=n+1\n",
    "    else:\n",
    "        s=0\n",
    "        j=j+1\n",
    "            \n",
    "        \n"
   ]
  },
  {
   "cell_type": "code",
   "execution_count": null,
   "metadata": {},
   "outputs": [],
   "source": [
    "# s is the sum\n",
    "# n is total number of events\n",
    "#j variable that helps to mention the number of cluster \n",
    "#K is the coloumn created for cluster\n",
    "#l is the coloumn for the lat (of the first and the last point of the cluster)\n",
    "#m is the coloumn for the lon (of the first and the last point of the cluster)\n",
    "\n",
    "s=0\n",
    "n=0\n",
    "j=0\n",
    "k=[0]\n",
    "l=[]\n",
    "m=[]\n",
    "summ=[]\n",
    "#code will run till the length of the data frame (df)\n",
    "while n<=(len(df)):\n",
    "# when the sum of the orders are more than 500 then the cluster should be changed.    \n",
    "    while(s<=480):\n",
    "    \n",
    "        s=s+df.iloc[n][3]\n",
    "        if (s<=515):\n",
    "            k.append(j)\n",
    "            n=n+1\n",
    "            \n",
    "        else:\n",
    "            break\n",
    "                \n",
    "#once the cluster is changing, i.e. we are considering new truck , s should be 0 again.   \n",
    "    summ.append(s)\n",
    "    s=0\n",
    "    #we would consider the longitude and latitude of the that point, as that is the starting point of the next cluster.\n",
    "    #we would consider the longitude and latitude of previous point too, as that was the ending point of the last cluster.\n",
    "    l.append(df.iloc[n-1][1])\n",
    "    m.append(df.iloc[n-1][2])\n",
    "    l.append(df.iloc[n][1])\n",
    "    m.append(df.iloc[n][2])\n",
    "    j=j+1\n",
    "            \n"
   ]
  },
  {
   "cell_type": "code",
   "execution_count": null,
   "metadata": {},
   "outputs": [],
   "source": [
    "df['Truck'] = pd.Series(k)\n",
    "df['distance_LAt']= pd.Series(l)\n",
    "df[\"distance_lon\"]=pd.Series(m) \n",
    "df[\"sum\"]=pd.Series(summ)"
   ]
  },
  {
   "cell_type": "code",
   "execution_count": null,
   "metadata": {},
   "outputs": [],
   "source": [
    "df.head()\n",
    "df.to_csv('Main_Central_warehouse.csv')\n"
   ]
  },
  {
   "cell_type": "code",
   "execution_count": null,
   "metadata": {},
   "outputs": [],
   "source": []
  },
  {
   "cell_type": "code",
   "execution_count": null,
   "metadata": {},
   "outputs": [],
   "source": [
    "lorsch : 8.5649355644751200\t49.6409044696465000\n",
    "MAnheim : 8.4571142031585300\t49.4940341280780000\n",
    "Mang : 51.1963658241177000, 6.4337945512069400\n",
    "    vechtra : 52.7428116120401000, 8.2836006861168300\n",
    "\n",
    "\n",
    "\n",
    "    \n"
   ]
  },
  {
   "cell_type": "code",
   "execution_count": null,
   "metadata": {},
   "outputs": [],
   "source": [
    "\n",
    "\n",
    "import pandas as pd\n",
    "import numpy as np\n",
    "from matplotlib import pyplot as plt\n",
    "\n",
    "%matplotlib inline\n",
    "df1 = pd.read_csv(\"C:\\\\Users\\\\shiva\\\\Main_Central_warehouse.csv\", encoding = 'unicode_escape')\n",
    "from geopy import distance\n",
    "#from geopy.distance import great_circle\n",
    "distance_1 = []\n",
    "\n",
    "\n",
    "for n in range (0,1355):\n",
    "    distance_1.append(distance.distance(df1.iloc[n][11], df1.iloc[n+1][11]))\n",
    "for m in range (0,2364):\n",
    "    distance_1.append(distance.distance( (52.81553914,  9.48523469), df1.iloc[m][8]))\n",
    "\n",
    "  \n",
    "df2 = pd.DataFrame() \n",
    "  \n",
    "df2['distance_2']=distance_1\n",
    "\n"
   ]
  },
  {
   "cell_type": "code",
   "execution_count": 111,
   "metadata": {},
   "outputs": [],
   "source": [
    "df2.to_csv('Main_central_d.csv')"
   ]
  },
  {
   "cell_type": "code",
   "execution_count": null,
   "metadata": {},
   "outputs": [],
   "source": []
  }
 ],
 "metadata": {
  "kernelspec": {
   "display_name": "Python 3",
   "language": "python",
   "name": "python3"
  },
  "language_info": {
   "codemirror_mode": {
    "name": "ipython",
    "version": 3
   },
   "file_extension": ".py",
   "mimetype": "text/x-python",
   "name": "python",
   "nbconvert_exporter": "python",
   "pygments_lexer": "ipython3",
   "version": "3.6.8"
  }
 },
 "nbformat": 4,
 "nbformat_minor": 2
}
